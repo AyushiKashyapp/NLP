{
  "nbformat": 4,
  "nbformat_minor": 0,
  "metadata": {
    "colab": {
      "provenance": [],
      "authorship_tag": "ABX9TyM8Do7xQ+pfvujcX/vf0Gt3",
      "include_colab_link": true
    },
    "kernelspec": {
      "name": "python3",
      "display_name": "Python 3"
    },
    "language_info": {
      "name": "python"
    }
  },
  "cells": [
    {
      "cell_type": "markdown",
      "metadata": {
        "id": "view-in-github",
        "colab_type": "text"
      },
      "source": [
        "<a href=\"https://colab.research.google.com/github/AyushiKashyapp/NLP/blob/main/ProductReviewRNN.ipynb\" target=\"_parent\"><img src=\"https://colab.research.google.com/assets/colab-badge.svg\" alt=\"Open In Colab\"/></a>"
      ]
    },
    {
      "cell_type": "markdown",
      "source": [
        "# Amazon Product Review Sentiment Analysis using RNN\n",
        "\n",
        "Sentiment Analysis using Recurrent Neural Networks, on the Product Reviews dataset having around 25000 customer reviews. The projects aims to give a rating according to the review given."
      ],
      "metadata": {
        "id": "u24rg3C6tIfC"
      }
    },
    {
      "cell_type": "markdown",
      "source": [
        "**Importing necessary libraries**"
      ],
      "metadata": {
        "id": "rL3HqUfOxxzW"
      }
    },
    {
      "cell_type": "code",
      "source": [
        "import nltk\n",
        "nltk.download('punkt')"
      ],
      "metadata": {
        "colab": {
          "base_uri": "https://localhost:8080/"
        },
        "id": "p8hGdbsWy8D0",
        "outputId": "282168a4-9777-458e-fe64-62d2d3419ed2"
      },
      "execution_count": null,
      "outputs": [
        {
          "output_type": "stream",
          "name": "stderr",
          "text": [
            "[nltk_data] Downloading package punkt to /root/nltk_data...\n",
            "[nltk_data]   Package punkt is already up-to-date!\n"
          ]
        },
        {
          "output_type": "execute_result",
          "data": {
            "text/plain": [
              "True"
            ]
          },
          "metadata": {},
          "execution_count": 4
        }
      ]
    },
    {
      "cell_type": "code",
      "execution_count": null,
      "metadata": {
        "id": "epYoNQ7jtD6y"
      },
      "outputs": [],
      "source": [
        "import pandas as pd\n",
        "import numpy as np\n",
        "import matplotlib.pyplot as plt\n",
        "import re\n",
        "import seaborn as sns\n",
        "import nltk\n",
        "from nltk.corpus import stopwords\n",
        "from nltk.tokenize import word_tokenize\n",
        "import tensorflow as tf\n",
        "from tensorflow.keras.layers import SimpleRNN, LSTM, Dense, Dropout, Embedding,  BatchNormalization\n",
        "from tensorflow.keras.models import Sequential\n",
        "from tensorflow.keras.preprocessing.text import Tokenizer\n",
        "from tensorflow.keras.utils import pad_sequences\n",
        "\n",
        "import warnings\n",
        "warnings.filterwarnings('ignore')"
      ]
    },
    {
      "cell_type": "code",
      "source": [
        "data = pd.read_csv('AmazonReview.csv')\n",
        "print(data.shape)\n",
        "print(data.info())"
      ],
      "metadata": {
        "colab": {
          "base_uri": "https://localhost:8080/"
        },
        "id": "mA1rNpmbxilW",
        "outputId": "2d47bd24-8ff0-422d-83bb-e3e30a9b87e5"
      },
      "execution_count": null,
      "outputs": [
        {
          "output_type": "stream",
          "name": "stdout",
          "text": [
            "(25000, 2)\n",
            "<class 'pandas.core.frame.DataFrame'>\n",
            "RangeIndex: 25000 entries, 0 to 24999\n",
            "Data columns (total 2 columns):\n",
            " #   Column     Non-Null Count  Dtype \n",
            "---  ------     --------------  ----- \n",
            " 0   Review     24999 non-null  object\n",
            " 1   Sentiment  25000 non-null  int64 \n",
            "dtypes: int64(1), object(1)\n",
            "memory usage: 390.8+ KB\n",
            "None\n"
          ]
        }
      ]
    },
    {
      "cell_type": "markdown",
      "source": [
        "**Exploratory Data Analysis**\n"
      ],
      "metadata": {
        "id": "62H1AdeTyKE0"
      }
    },
    {
      "cell_type": "code",
      "source": [
        "print(\"Null Values:\\n\", data.isna().sum())\n",
        "data = data.dropna()"
      ],
      "metadata": {
        "colab": {
          "base_uri": "https://localhost:8080/"
        },
        "id": "sogZ9xK6yPl2",
        "outputId": "48e59dd8-ace3-48d4-cb32-be0bf443964e"
      },
      "execution_count": null,
      "outputs": [
        {
          "output_type": "stream",
          "name": "stdout",
          "text": [
            "Null Values:\n",
            " Review       1\n",
            "Sentiment    0\n",
            "dtype: int64\n"
          ]
        }
      ]
    },
    {
      "cell_type": "code",
      "source": [
        "data['Sentiment'].value_counts()"
      ],
      "metadata": {
        "colab": {
          "base_uri": "https://localhost:8080/"
        },
        "id": "iJNPBtknyb2E",
        "outputId": "5be14fd0-a43e-4d34-ceea-be1c2715171d"
      },
      "execution_count": null,
      "outputs": [
        {
          "output_type": "execute_result",
          "data": {
            "text/plain": [
              "Sentiment\n",
              "1    5000\n",
              "2    5000\n",
              "3    5000\n",
              "4    5000\n",
              "5    4999\n",
              "Name: count, dtype: int64"
            ]
          },
          "metadata": {},
          "execution_count": 8
        }
      ]
    },
    {
      "cell_type": "markdown",
      "source": [
        "**Text Cleaning**\n",
        "\n",
        "Removing unwanted HTML tags, brackets, or special characters using Regex."
      ],
      "metadata": {
        "id": "qGrbpCZjykpm"
      }
    },
    {
      "cell_type": "code",
      "source": [
        "# downloading stopwords from nltk library\n",
        "nltk.download('stopwords')\n",
        "stop_words = set(stopwords.words('english'))\n",
        "\n",
        "# Review text Cleaning\n",
        "def clean_reviews(text):\n",
        "\n",
        "    # removing html brackets and other square brackets from the string using regex\n",
        "    regex = re.compile('<.*?>') # r'<.*?>'\n",
        "    text = re.sub(regex, '', text)\n",
        "\n",
        "    # removing special characters like @, #, $, etc\n",
        "    pattern = re.compile('[^a-zA-z0-9\\s]')\n",
        "    text = re.sub(pattern,'',text)\n",
        "\n",
        "    # removing numbers\n",
        "    pattern = re.compile('\\d+')\n",
        "    text = re.sub(pattern,'',text)\n",
        "\n",
        "    # converting text to lower case\n",
        "    text = text.lower()\n",
        "\n",
        "    # Tokenization of words\n",
        "    text = word_tokenize(text)\n",
        "\n",
        "    # Stop words removal\n",
        "    text = [word for word in text if not word in stop_words]\n",
        "\n",
        "    return text\n",
        "\n",
        "# using the clean_reviews function on the dataset\n",
        "data['Review'] = data['Review'].apply(clean_reviews)"
      ],
      "metadata": {
        "colab": {
          "base_uri": "https://localhost:8080/"
        },
        "id": "0byweKTmyy5o",
        "outputId": "146b2113-3c22-4ef7-8243-848cc382ed19"
      },
      "execution_count": null,
      "outputs": [
        {
          "output_type": "stream",
          "name": "stderr",
          "text": [
            "[nltk_data] Downloading package stopwords to /root/nltk_data...\n",
            "[nltk_data]   Unzipping corpora/stopwords.zip.\n"
          ]
        }
      ]
    },
    {
      "cell_type": "markdown",
      "source": [
        "**Tokenisation and Text Encoding**\n",
        "\n",
        "Using tokenizer from Tensorflow library to generate the tokens and encoding the text using the same.\n",
        "\n",
        "Representing each of the total 5 values in the reviews.ratings column as separate columns using one-hot encoding."
      ],
      "metadata": {
        "id": "3LYte-ggzB1G"
      }
    },
    {
      "cell_type": "code",
      "source": [
        "from keras.preprocessing.text import Tokenizer\n",
        "from keras.preprocessing.sequence import pad_sequences\n",
        "import pandas as pd\n",
        "import numpy as np\n",
        "\n",
        "# Assuming data is your DataFrame with 'Review' and 'Sentiment' columns\n",
        "# Initializing the tokenizer\n",
        "tokenizer = Tokenizer()\n",
        "\n",
        "# Converting all the reviews to a list to pass as a parameter to fit_on_texts\n",
        "reviews_to_list = data['Review'].tolist()\n",
        "tokenizer.fit_on_texts(reviews_to_list)\n",
        "\n",
        "# Generating text sequences\n",
        "text_sequences = tokenizer.texts_to_sequences(reviews_to_list)\n",
        "\n",
        "# One hot encoding the sentiment column\n",
        "data = pd.get_dummies(data, columns=['Sentiment'])\n",
        "\n",
        "# Setting maximum words we want in an example\n",
        "max_words = 500\n",
        "\n",
        "# Generating our X (input) to the model using pad_sequences\n",
        "X = pad_sequences(text_sequences, maxlen=max_words)\n",
        "\n",
        "# Generating our y (output) from the one-hot encoded sentiment columns\n",
        "y = data[['Sentiment_1', 'Sentiment_2', 'Sentiment_3', 'Sentiment_4', 'Sentiment_5']]\n",
        "\n",
        "print(X.shape, y.shape)\n"
      ],
      "metadata": {
        "colab": {
          "base_uri": "https://localhost:8080/"
        },
        "id": "cqTD3deWz7pl",
        "outputId": "881c212d-ca7e-45d6-9141-52bc52be421b"
      },
      "execution_count": null,
      "outputs": [
        {
          "output_type": "stream",
          "name": "stdout",
          "text": [
            "(24999, 500) (24999, 5)\n"
          ]
        }
      ]
    },
    {
      "cell_type": "markdown",
      "source": [
        "**Train Test Split**\n",
        "Splitting the dataset into training and test data, as 80 - 20 % split."
      ],
      "metadata": {
        "id": "DXYpwqT-1WIA"
      }
    },
    {
      "cell_type": "code",
      "source": [
        "from sklearn.model_selection import train_test_split\n",
        "X_train, X_test, y_train, y_test = train_test_split(X, y, test_size=0.20, random_state=42)\n",
        "\n",
        "print(X_train.shape, X_test.shape, y_train.shape, y_test.shape)"
      ],
      "metadata": {
        "colab": {
          "base_uri": "https://localhost:8080/"
        },
        "id": "btai9Drx1lfX",
        "outputId": "e1a4036d-b91c-4e72-b375-a4ea9ae937aa"
      },
      "execution_count": null,
      "outputs": [
        {
          "output_type": "stream",
          "name": "stdout",
          "text": [
            "(19999, 500) (5000, 500) (19999, 5) (5000, 5)\n"
          ]
        }
      ]
    },
    {
      "cell_type": "markdown",
      "source": [
        "**Model building and compiling**"
      ],
      "metadata": {
        "id": "y2ttjt3d1qkL"
      }
    },
    {
      "cell_type": "code",
      "source": [
        "from keras.layers import Embedding, SimpleRNN, Dense, GlobalMaxPooling1D\n",
        "\n",
        "rnn = Sequential(name = \"Simple_RNN\")\n",
        "rnn.add(Embedding(len(tokenizer.word_index)+1,\n",
        "                  max_words,\n",
        "                  input_length=max_words))\n",
        "\n",
        "rnn.add(SimpleRNN(128, activation='relu', return_sequences=True))\n",
        "\n",
        "rnn.add(SimpleRNN(64, activation='relu', return_sequences=True))\n",
        "rnn.add(GlobalMaxPooling1D())\n",
        "rnn.add(Dense(5, activation='softmax'))\n",
        "\n",
        "print(rnn.summary())"
      ],
      "metadata": {
        "colab": {
          "base_uri": "https://localhost:8080/"
        },
        "id": "fLNm4tRn1u72",
        "outputId": "29027796-8244-4a9c-b076-48acf2c5a363"
      },
      "execution_count": null,
      "outputs": [
        {
          "output_type": "stream",
          "name": "stdout",
          "text": [
            "Model: \"Simple_RNN\"\n",
            "_________________________________________________________________\n",
            " Layer (type)                Output Shape              Param #   \n",
            "=================================================================\n",
            " embedding (Embedding)       (None, 500, 500)          19819500  \n",
            "                                                                 \n",
            " simple_rnn (SimpleRNN)      (None, 500, 128)          80512     \n",
            "                                                                 \n",
            " simple_rnn_1 (SimpleRNN)    (None, 500, 64)           12352     \n",
            "                                                                 \n",
            " global_max_pooling1d (Glob  (None, 64)                0         \n",
            " alMaxPooling1D)                                                 \n",
            "                                                                 \n",
            " dense (Dense)               (None, 5)                 325       \n",
            "                                                                 \n",
            "=================================================================\n",
            "Total params: 19912689 (75.96 MB)\n",
            "Trainable params: 19912689 (75.96 MB)\n",
            "Non-trainable params: 0 (0.00 Byte)\n",
            "_________________________________________________________________\n",
            "None\n"
          ]
        }
      ]
    },
    {
      "cell_type": "code",
      "source": [
        "rnn.compile(\n",
        "    loss=\"categorical_crossentropy\",\n",
        "    optimizer='adam',\n",
        "    metrics=['accuracy']\n",
        ")\n",
        "\n",
        "history = rnn.fit(X_train, y_train,\n",
        "                        batch_size=64,\n",
        "                        epochs=2,\n",
        "                        verbose=1,\n",
        "                          validation_data = (X_test, y_test))\n",
        "\n",
        "print(\"Simple_RNN Score---> \", rnn.evaluate(X_test, y_test, verbose=1))"
      ],
      "metadata": {
        "colab": {
          "base_uri": "https://localhost:8080/"
        },
        "id": "P0T-ZapB2PHx",
        "outputId": "411b8438-2a10-4182-946b-39635ebf2a8f"
      },
      "execution_count": null,
      "outputs": [
        {
          "output_type": "stream",
          "name": "stdout",
          "text": [
            "Epoch 1/2\n",
            "313/313 [==============================] - 520s 2s/step - loss: 1.3451 - accuracy: 0.3920 - val_loss: 1.2196 - val_accuracy: 0.4686\n",
            "Epoch 2/2\n",
            "313/313 [==============================] - 521s 2s/step - loss: 1.0511 - accuracy: 0.5545 - val_loss: 1.2139 - val_accuracy: 0.4712\n",
            "157/157 [==============================] - 26s 168ms/step - loss: 1.2139 - accuracy: 0.4712\n",
            "Simple_RNN Score--->  [1.213862657546997, 0.47119998931884766]\n"
          ]
        }
      ]
    },
    {
      "cell_type": "markdown",
      "source": [
        "**LSTM ( Long Short Term Memory)**\n",
        "Using LSTM and to see how the model performance is changing."
      ],
      "metadata": {
        "id": "dzlalP115u30"
      }
    },
    {
      "cell_type": "code",
      "source": [
        "model = Sequential(name=\"LSTM_Model\")\n",
        "model.add(Embedding(len(tokenizer.word_index)+1,\n",
        "                    max_words,\n",
        "                    input_length=max_words))\n",
        "\n",
        "# adding a LSTM layer\n",
        "model.add(LSTM(150, return_sequences=False))\n",
        "BatchNormalization()\n",
        "model.add(Dropout(0.5))\n",
        "\n",
        "#adding a dense layer with activation function of relu\n",
        "model.add(Dense(50, activation='relu'))\n",
        "BatchNormalization()\n",
        "model.add(Dropout(0.5))\n",
        "\n",
        "# adding the final output activation with activation function of softmax\n",
        "model.add(Dense(5, activation='softmax'))\n",
        "\n",
        "# printing model summary\n",
        "print(model.summary())"
      ],
      "metadata": {
        "colab": {
          "base_uri": "https://localhost:8080/"
        },
        "id": "v5Sf8sJe59nG",
        "outputId": "a1f874a7-bda1-4f8b-bfd7-cef9bd757402"
      },
      "execution_count": null,
      "outputs": [
        {
          "output_type": "stream",
          "name": "stdout",
          "text": [
            "Model: \"LSTM_Model\"\n",
            "_________________________________________________________________\n",
            " Layer (type)                Output Shape              Param #   \n",
            "=================================================================\n",
            " embedding_1 (Embedding)     (None, 500, 500)          19819500  \n",
            "                                                                 \n",
            " lstm (LSTM)                 (None, 150)               390600    \n",
            "                                                                 \n",
            " dropout (Dropout)           (None, 150)               0         \n",
            "                                                                 \n",
            " dense_1 (Dense)             (None, 50)                7550      \n",
            "                                                                 \n",
            " dropout_1 (Dropout)         (None, 50)                0         \n",
            "                                                                 \n",
            " dense_2 (Dense)             (None, 5)                 255       \n",
            "                                                                 \n",
            "=================================================================\n",
            "Total params: 20217905 (77.13 MB)\n",
            "Trainable params: 20217905 (77.13 MB)\n",
            "Non-trainable params: 0 (0.00 Byte)\n",
            "_________________________________________________________________\n",
            "None\n"
          ]
        }
      ]
    },
    {
      "cell_type": "code",
      "source": [
        "model.compile(\n",
        "    loss=\"categorical_crossentropy\",\n",
        "    optimizer='adam',\n",
        "    metrics=['accuracy']\n",
        ")\n",
        "\n",
        "# Training the GRU model\n",
        "history = model.fit(X_train, y_train,\n",
        "                         batch_size=64,\n",
        "                         epochs=2,\n",
        "                         verbose=1,\n",
        "                       validation_data=(X_test, y_test))\n",
        "\n",
        "# Printing model score on test data\n",
        "print(\"LSTM model Score---> \", model.evaluate(X_test, y_test, verbose=1))"
      ],
      "metadata": {
        "colab": {
          "base_uri": "https://localhost:8080/"
        },
        "id": "m7OtTXRw6AoU",
        "outputId": "c7551a43-4ba7-4d6e-bee5-f3e01a841760"
      },
      "execution_count": null,
      "outputs": [
        {
          "output_type": "stream",
          "name": "stdout",
          "text": [
            "Epoch 1/2\n",
            "313/313 [==============================] - 968s 3s/step - loss: 1.3777 - accuracy: 0.3793 - val_loss: 1.2202 - val_accuracy: 0.4666\n",
            "Epoch 2/2\n",
            "313/313 [==============================] - 951s 3s/step - loss: 1.1013 - accuracy: 0.5354 - val_loss: 1.2284 - val_accuracy: 0.4594\n",
            "157/157 [==============================] - 67s 425ms/step - loss: 1.2284 - accuracy: 0.4594\n",
            "LSTM model Score--->  [1.228446364402771, 0.4593999981880188]\n"
          ]
        }
      ]
    },
    {
      "cell_type": "markdown",
      "source": [
        "**Classification Report**"
      ],
      "metadata": {
        "id": "PC65C2RX6Dd3"
      }
    },
    {
      "cell_type": "code",
      "source": [
        "# Plotting the history\n",
        "metrics = history.history\n",
        "plt.figure(figsize=(10, 5))\n",
        "\n",
        "# Plotting training and validation loss\n",
        "plt.subplot(1, 2, 1)\n",
        "plt.plot(history.epoch, metrics['loss'], metrics['val_loss'])\n",
        "plt.legend(['loss', 'val_loss'])\n",
        "plt.xlabel('Epoch')\n",
        "plt.ylabel('Loss')\n",
        "\n",
        "# Plotting training and validation accuracy\n",
        "plt.subplot(1, 2, 2)\n",
        "plt.plot(history.epoch, metrics['accuracy'],\n",
        "         metrics['val_accuracy'])\n",
        "plt.legend(['accuracy', 'val_accuracy'])\n",
        "plt.xlabel('Epoch')\n",
        "plt.ylabel('Accuracy')"
      ],
      "metadata": {
        "id": "GICA30Rx6IWH",
        "colab": {
          "base_uri": "https://localhost:8080/",
          "height": 483
        },
        "outputId": "6d3afc5b-1aa6-4e8e-9803-7d308cccad50"
      },
      "execution_count": null,
      "outputs": [
        {
          "output_type": "execute_result",
          "data": {
            "text/plain": [
              "Text(0, 0.5, 'Accuracy')"
            ]
          },
          "metadata": {},
          "execution_count": 16
        },
        {
          "output_type": "display_data",
          "data": {
            "text/plain": [
              "<Figure size 1000x500 with 2 Axes>"
            ],
            "image/png": "[encoded data removed]"
          },
          "metadata": {}
        }
      ]
    },
    {
      "cell_type": "code",
      "source": [
        "# converting y_test tht was one hot encoded to one column fo rconfusion matrix\n",
        "y_true = np.argmax(y_test.values, axis=1)\n",
        "y_true.shape\n",
        "\n",
        "# Confusion matrix\n",
        "y_pred = np.argmax(model.predict(X_test), axis=1)\n",
        "cm = tf.math.confusion_matrix(y_true, y_pred)\n",
        "\n",
        "# Plotting the confusion matrix\n",
        "plt.figure(figsize=(10, 8))\n",
        "sns.heatmap(cm, annot=True, fmt='g')\n",
        "plt.xlabel('Predicted')\n",
        "plt.ylabel('Actual')\n",
        "plt.show()"
      ],
      "metadata": {
        "id": "ItiGVXHF6Ltc",
        "colab": {
          "base_uri": "https://localhost:8080/",
          "height": 714
        },
        "outputId": "09504454-f275-4d08-8087-234a5d08913e"
      },
      "execution_count": null,
      "outputs": [
        {
          "output_type": "stream",
          "name": "stdout",
          "text": [
            "157/157 [==============================] - 74s 466ms/step\n"
          ]
        },
        {
          "output_type": "display_data",
          "data": {
            "text/plain": [
              "<Figure size 1000x800 with 2 Axes>"
            ],
            "image/png": "[encoded data removed]"
          },
          "metadata": {}
        }
      ]
    },
    {
      "cell_type": "code",
      "source": [
        "from sklearn.metrics import classification_report\n",
        "report = classification_report(y_true, y_pred)\n",
        "print(report)"
      ],
      "metadata": {
        "id": "Kozy-pOA6M7E",
        "colab": {
          "base_uri": "https://localhost:8080/"
        },
        "outputId": "e6dea547-f0b6-4f61-c8ee-88ef8d575858"
      },
      "execution_count": null,
      "outputs": [
        {
          "output_type": "stream",
          "name": "stdout",
          "text": [
            "              precision    recall  f1-score   support\n",
            "\n",
            "           0       0.58      0.55      0.57      1021\n",
            "           1       0.37      0.40      0.38      1000\n",
            "           2       0.36      0.38      0.37       985\n",
            "           3       0.40      0.38      0.39       973\n",
            "           4       0.60      0.57      0.59      1021\n",
            "\n",
            "    accuracy                           0.46      5000\n",
            "   macro avg       0.46      0.46      0.46      5000\n",
            "weighted avg       0.46      0.46      0.46      5000\n",
            "\n"
          ]
        }
      ]
    }
  ]
}