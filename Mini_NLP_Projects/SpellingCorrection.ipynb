{
  "nbformat": 4,
  "nbformat_minor": 0,
  "metadata": {
    "colab": {
      "provenance": [],
      "authorship_tag": "ABX9TyP5LJjWiT9DpRXSqebKBHnd",
      "include_colab_link": true
    },
    "kernelspec": {
      "name": "python3",
      "display_name": "Python 3"
    },
    "language_info": {
      "name": "python"
    }
  },
  "cells": [
    {
      "cell_type": "markdown",
      "metadata": {
        "id": "view-in-github",
        "colab_type": "text"
      },
      "source": [
        "<a href=\"https://colab.research.google.com/github/AyushiKashyapp/NLP/blob/main/SpellingCorrection.ipynb\" target=\"_parent\"><img src=\"https://colab.research.google.com/assets/colab-badge.svg\" alt=\"Open In Colab\"/></a>"
      ]
    },
    {
      "cell_type": "markdown",
      "source": [
        "# Spelling Correction Model\n",
        "\n",
        "Using NLP Library TextBlob.\n",
        "\n",
        "TextBlob is a Python library for processing text data. It provides a simple API for delving into common natural language processing tasks such as tagging parts of speech, extracting nominal sentences, analyzing feelings, classifying, translating, and more."
      ],
      "metadata": {
        "id": "RWHjoLaIVVwn"
      }
    },
    {
      "cell_type": "code",
      "source": [
        "from textblob import TextBlob\n",
        "\n",
        "words = [\"Machin\", \"Learnin\"]\n",
        "\n",
        "corrected_words = []\n",
        "\n",
        "for i in words:\n",
        "  corrected_words.append(TextBlob(i))\n",
        "\n",
        "print(\"Wrong words: \", words)\n",
        "print(\"Corrected words: \")\n",
        "for i in corrected_words:\n",
        "  print(i.correct(), end=\" \")"
      ],
      "metadata": {
        "colab": {
          "base_uri": "https://localhost:8080/"
        },
        "id": "X077NB5AV3V5",
        "outputId": "8441975b-136e-4850-ce74-6e45d8fd2338"
      },
      "execution_count": 1,
      "outputs": [
        {
          "output_type": "stream",
          "name": "stdout",
          "text": [
            "Wrong words:  ['Machin', 'Learnin']\n",
            "Corrected words: \n",
            "Machine Learning "
          ]
        }
      ]
    }
  ]
}
